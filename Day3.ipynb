{
 "cells": [
  {
   "cell_type": "markdown",
   "id": "0eaf1285-a88a-49b4-a651-18548d5afacc",
   "metadata": {},
   "source": [
    "LIST\n"
   ]
  },
  {
   "cell_type": "code",
   "execution_count": 8,
   "id": "7318678e-15b9-476c-a5e3-d7ca782831e3",
   "metadata": {},
   "outputs": [
    {
     "name": "stdout",
     "output_type": "stream",
     "text": [
      "['apple', 'orange', 'grapes', 'mango'] <class 'list'> 4\n",
      "apple apple\n",
      "mango mango\n",
      "['apple', 'orange', 'grapes', 'mango']   ['apple', 'orange', 'grapes', 'mango']\n"
     ]
    }
   ],
   "source": [
    "#List is a collection :- changeable, ordered and allow duplicates..!\n",
    "fruits=[\"apple\",\"orange\",\"grapes\",\"mango\"]\n",
    "print(fruits,type(fruits),len(fruits))\n",
    "\n",
    "print(fruits[0],fruits[-4]) #first element\n",
    "\n",
    "print(fruits[3],fruits[-1]) #last element\n",
    "\n",
    "print(fruits[0:4],\" \",fruits[-4:])\n",
    "\n"
   ]
  },
  {
   "cell_type": "code",
   "execution_count": 12,
   "id": "ec856386-0abe-4634-9d10-e209848d0c64",
   "metadata": {},
   "outputs": [
    {
     "name": "stdout",
     "output_type": "stream",
     "text": [
      "lemon\n",
      "['apple', 'orange', 'lemon', 'mango']\n"
     ]
    }
   ],
   "source": [
    "#Access lists\n",
    "print(fruits[2])\n",
    "\n",
    "#change\n",
    "fruits[2]=\"lemon\"\n",
    "print(fruits)"
   ]
  },
  {
   "cell_type": "code",
   "execution_count": 27,
   "id": "e3b63e9d-5d24-4dac-99aa-cb808e334273",
   "metadata": {},
   "outputs": [
    {
     "name": "stdout",
     "output_type": "stream",
     "text": [
      "[True, 'Anu', 18]\n",
      "['a', 'b', 'c', 'd', 'e']\n",
      "a b c \n",
      "\n",
      "present\n",
      "True\n"
     ]
    },
    {
     "name": "stderr",
     "output_type": "stream",
     "text": [
      "<>:11: SyntaxWarning: \"is\" with a literal. Did you mean \"==\"?\n",
      "<>:11: SyntaxWarning: \"is\" with a literal. Did you mean \"==\"?\n",
      "C:\\Users\\Admin\\AppData\\Local\\Temp\\ipykernel_13604\\1395791270.py:11: SyntaxWarning: \"is\" with a literal. Did you mean \"==\"?\n",
      "  if i is 'd':\n"
     ]
    }
   ],
   "source": [
    "#hetero list\n",
    "h1=[True,\"Anu\",18]\n",
    "print(h1)\n",
    "\n",
    "#another method for giving list\n",
    "h2=list(('a','b','c','d','e'))\n",
    "print(h2)\n",
    "\n",
    "#print values\n",
    "for i in h2:\n",
    "    if i is 'd':\n",
    "        break\n",
    "    else:\n",
    "        print(i,end=\" \")\n",
    "print(\"\\n\")\n",
    "if 'c' in h2:\n",
    "    print(\"present\")\n",
    "else:\n",
    "    print(\"not present\")"
   ]
  },
  {
   "cell_type": "code",
   "execution_count": 28,
   "id": "f0c4296f-6c03-4de5-b6e9-07b80d06ff5c",
   "metadata": {},
   "outputs": [
    {
     "name": "stdout",
     "output_type": "stream",
     "text": [
      "True\n",
      "False\n"
     ]
    }
   ],
   "source": [
    "#BOOLEAN RESult\n",
    "\n",
    "print('e' in h2)\n",
    "print('f' in h2)"
   ]
  },
  {
   "cell_type": "code",
   "execution_count": 30,
   "id": "edc7bd96-0963-42a1-9912-9d089769cc6b",
   "metadata": {},
   "outputs": [
    {
     "name": "stdout",
     "output_type": "stream",
     "text": [
      "5\n",
      "4\n",
      "3\n",
      "2\n",
      "1\n"
     ]
    }
   ],
   "source": [
    "#Reverse order print\n",
    "\n",
    "\n",
    "new=[1,2,3,4,5]\n",
    "l=len(new)\n",
    "for i in range(l-1,-1,-1):\n",
    "    print(new[i])\n",
    "    \n",
    "\n",
    "\n"
   ]
  },
  {
   "cell_type": "code",
   "execution_count": 31,
   "id": "69299bc9-e778-4b21-b5a5-950799b52b2a",
   "metadata": {},
   "outputs": [
    {
     "data": {
      "text/plain": [
       "[1, 2, 3, 4, 5]"
      ]
     },
     "execution_count": 31,
     "metadata": {},
     "output_type": "execute_result"
    }
   ],
   "source": [
    "new"
   ]
  },
  {
   "cell_type": "code",
   "execution_count": 32,
   "id": "047c550a-4de1-4b19-a3e6-bb7a34fee477",
   "metadata": {},
   "outputs": [
    {
     "name": "stdout",
     "output_type": "stream",
     "text": [
      "[1, 2, 3, 4, 5, 6, 7]\n"
     ]
    }
   ],
   "source": [
    "new.append(6)\n",
    "new.append(7)\n",
    "print(new)"
   ]
  },
  {
   "cell_type": "code",
   "execution_count": 33,
   "id": "85efa9f7-16a9-4c01-9ec5-1f256b867ff4",
   "metadata": {},
   "outputs": [
    {
     "name": "stdout",
     "output_type": "stream",
     "text": [
      "[1, 8, 2, 3, 4, 5, 6, 7]\n"
     ]
    }
   ],
   "source": [
    "new.insert(1,8)\n",
    "print(new)"
   ]
  },
  {
   "cell_type": "code",
   "execution_count": 34,
   "id": "96473bfc-754e-4601-8c7e-5d6493d939b8",
   "metadata": {},
   "outputs": [
    {
     "name": "stdout",
     "output_type": "stream",
     "text": [
      "[1, 8, 2, 3, 4, 5, 6, 7, 'a', 'b', 'c']\n"
     ]
    }
   ],
   "source": [
    "new1=['a','b','c']\n",
    "new.extend(new1)\n",
    "print(new)"
   ]
  },
  {
   "cell_type": "code",
   "execution_count": 39,
   "id": "a009bd95-8985-42f4-8f8d-46b5e940b0d0",
   "metadata": {},
   "outputs": [
    {
     "name": "stdout",
     "output_type": "stream",
     "text": [
      "[1, 8, 2, 3, 4, 5, 6, 7, 'a', 'b', 'c']\n",
      "[1, 8, 2, 4, 5, 6, 7, 'a', 'b', 'c']\n"
     ]
    }
   ],
   "source": [
    "#one value to another\n",
    "helo=new.copy()\n",
    "print(helo)\n",
    "#remove\n",
    "helo.remove(3)\n",
    "print(helo)\n"
   ]
  },
  {
   "cell_type": "code",
   "execution_count": 41,
   "id": "3f4c6f0e-6f74-45af-bcaf-cd60321f92ea",
   "metadata": {},
   "outputs": [
    {
     "name": "stdout",
     "output_type": "stream",
     "text": [
      "[1, 2, 3, 4, 5, 6]\n"
     ]
    }
   ],
   "source": [
    "#merging\n",
    "\n",
    "l1=[1,2,3]\n",
    "l2=[4,5,6]\n",
    "l=l1+l2\n",
    "print(l)"
   ]
  },
  {
   "cell_type": "code",
   "execution_count": 49,
   "id": "6de11c16-6fb0-459b-a330-69537e369966",
   "metadata": {},
   "outputs": [
    {
     "data": {
      "text/plain": [
       "[2, 56]"
      ]
     },
     "execution_count": 49,
     "metadata": {},
     "output_type": "execute_result"
    }
   ],
   "source": [
    "\n",
    "\n",
    "l=[2,56,36]\n",
    "l.pop()\n",
    "l"
   ]
  },
  {
   "cell_type": "code",
   "execution_count": 50,
   "id": "ea442971-1c93-4aa5-8a9b-a2a7613ccf9e",
   "metadata": {},
   "outputs": [
    {
     "data": {
      "text/plain": [
       "[56]"
      ]
     },
     "execution_count": 50,
     "metadata": {},
     "output_type": "execute_result"
    }
   ],
   "source": [
    "del l[0]\n",
    "l"
   ]
  },
  {
   "cell_type": "code",
   "execution_count": 51,
   "id": "515083cc-ca63-4350-8915-2b487fbfa9ff",
   "metadata": {},
   "outputs": [
    {
     "ename": "NameError",
     "evalue": "name 'l' is not defined",
     "output_type": "error",
     "traceback": [
      "\u001b[1;31m---------------------------------------------------------------------------\u001b[0m",
      "\u001b[1;31mNameError\u001b[0m                                 Traceback (most recent call last)",
      "Cell \u001b[1;32mIn[51], line 2\u001b[0m\n\u001b[0;32m      1\u001b[0m \u001b[38;5;28;01mdel\u001b[39;00m l\n\u001b[1;32m----> 2\u001b[0m l\n",
      "\u001b[1;31mNameError\u001b[0m: name 'l' is not defined"
     ]
    }
   ],
   "source": [
    "del l\n",
    "l"
   ]
  },
  {
   "cell_type": "code",
   "execution_count": null,
   "id": "08b04035-5c5b-4e8a-8275-b98f89e97011",
   "metadata": {},
   "outputs": [],
   "source": [
    "# Diff b/w del and clear is del:-deletes the entire list while clear just clears the list i.e, leaves the list []-'empty'"
   ]
  },
  {
   "cell_type": "code",
   "execution_count": 52,
   "id": "65a1d2bd-e776-4c6e-870f-1ddddddef05c",
   "metadata": {},
   "outputs": [
    {
     "data": {
      "text/plain": [
       "[]"
      ]
     },
     "execution_count": 52,
     "metadata": {},
     "output_type": "execute_result"
    }
   ],
   "source": [
    "l=[45,36,89,36]\n",
    "l.clear()\n",
    "l"
   ]
  },
  {
   "cell_type": "code",
   "execution_count": 54,
   "id": "62761ab8-0cf0-4fcd-9207-00105141e57a",
   "metadata": {},
   "outputs": [
    {
     "name": "stdout",
     "output_type": "stream",
     "text": [
      "[1, 2, 3, 4, 5]\n",
      "[5, 4, 3, 2, 1]\n"
     ]
    }
   ],
   "source": [
    "numbers=[3,5,2,1,4]\n",
    "numbers.sort() #sort in ascending order\n",
    "print(numbers) \n",
    "\n",
    "numbers.sort(reverse=True) #sort in descending order\n",
    "print(numbers)"
   ]
  },
  {
   "cell_type": "code",
   "execution_count": 1,
   "id": "fa56867d-66fe-4aca-87b0-3dbe2db5f42c",
   "metadata": {},
   "outputs": [
    {
     "ename": "NameError",
     "evalue": "name 'numbers' is not defined",
     "output_type": "error",
     "traceback": [
      "\u001b[1;31m---------------------------------------------------------------------------\u001b[0m",
      "\u001b[1;31mNameError\u001b[0m                                 Traceback (most recent call last)",
      "Cell \u001b[1;32mIn[1], line 1\u001b[0m\n\u001b[1;32m----> 1\u001b[0m numbers\u001b[38;5;241m.\u001b[39mclear()\n",
      "\u001b[1;31mNameError\u001b[0m: name 'numbers' is not defined"
     ]
    }
   ],
   "source": [
    "numbers.clear()"
   ]
  },
  {
   "cell_type": "markdown",
   "id": "f84ae497-3838-4db8-80e2-dd3f8005df60",
   "metadata": {},
   "source": [
    "TUPLE"
   ]
  },
  {
   "cell_type": "code",
   "execution_count": 6,
   "id": "a251f51b-4b9f-46de-b060-1e681cb0e314",
   "metadata": {},
   "outputs": [
    {
     "name": "stdout",
     "output_type": "stream",
     "text": [
      "('iam', 'wise', 'strong', 'brilliant') <class 'tuple'> 4\n",
      "iam iam\n",
      "brilliant brilliant\n",
      "('iam', 'wise', 'strong', 'brilliant') ('iam', 'wise', 'strong', 'brilliant')\n"
     ]
    }
   ],
   "source": [
    "#tuple():-ordered,unchangeable,allow duplicates\n",
    "\n",
    "t=(\"iam\",\"wise\",\"strong\",\"brilliant\")\n",
    "print(t,type(t),len(t))\n",
    "\n",
    "print(t[0],t[-4]) #1st element\n",
    "\n",
    "print(t[3],t[-1]) #last element\n",
    "\n",
    "print(t[0:4],t[-4:])#1st to last"
   ]
  },
  {
   "cell_type": "code",
   "execution_count": 7,
   "id": "6e8692e1-472e-4f6c-b713-593c07cd2d89",
   "metadata": {},
   "outputs": [
    {
     "ename": "TypeError",
     "evalue": "'tuple' object does not support item assignment",
     "output_type": "error",
     "traceback": [
      "\u001b[1;31m---------------------------------------------------------------------------\u001b[0m",
      "\u001b[1;31mTypeError\u001b[0m                                 Traceback (most recent call last)",
      "Cell \u001b[1;32mIn[7], line 1\u001b[0m\n\u001b[1;32m----> 1\u001b[0m t[\u001b[38;5;241m0\u001b[39m]\u001b[38;5;241m=\u001b[39m\u001b[38;5;124m\"\u001b[39m\u001b[38;5;124manu\u001b[39m\u001b[38;5;124m\"\u001b[39m \u001b[38;5;66;03m#modify\u001b[39;00m\n\u001b[0;32m      2\u001b[0m \u001b[38;5;28mprint\u001b[39m(t)\n",
      "\u001b[1;31mTypeError\u001b[0m: 'tuple' object does not support item assignment"
     ]
    }
   ],
   "source": [
    "t[0]=\"anu\" #modify\n",
    "print(t)"
   ]
  },
  {
   "cell_type": "code",
   "execution_count": 8,
   "id": "d19466f4-6b15-4771-9ce0-3899b9413ed0",
   "metadata": {},
   "outputs": [
    {
     "name": "stdout",
     "output_type": "stream",
     "text": [
      "not present\n"
     ]
    }
   ],
   "source": [
    "if 'xyz' in t:\n",
    "    print(\"present\")\n",
    "else:\n",
    "    print(\"not present\")"
   ]
  },
  {
   "cell_type": "code",
   "execution_count": 10,
   "id": "248efbf8-313e-4a50-b1d4-9c71b17a85a6",
   "metadata": {},
   "outputs": [
    {
     "name": "stdout",
     "output_type": "stream",
     "text": [
      "False\n"
     ]
    }
   ],
   "source": [
    "print('xyz' in t)"
   ]
  },
  {
   "cell_type": "code",
   "execution_count": 12,
   "id": "303cb86b-017e-4dc4-955a-5595126f9388",
   "metadata": {},
   "outputs": [
    {
     "name": "stdout",
     "output_type": "stream",
     "text": [
      "brilliant strong wise iam "
     ]
    }
   ],
   "source": [
    "l=len(t)\n",
    "for i in range(l-1,-1,-1):\n",
    "    print(t[i],end=\" \")"
   ]
  },
  {
   "cell_type": "code",
   "execution_count": 13,
   "id": "a73aaa49-2324-4cfd-ba01-3ea9136ae882",
   "metadata": {},
   "outputs": [
    {
     "name": "stdout",
     "output_type": "stream",
     "text": [
      "(1, 2, 3, 4) <class 'tuple'>\n",
      "[1, 2, 3, 4] <class 'list'>\n",
      "[1, 2, 3, 4, 5] <class 'list'>\n",
      "(1, 2, 3, 4, 5)\n"
     ]
    }
   ],
   "source": [
    "#but to modify\n",
    "tu=(1,2,3,4)\n",
    "print(tu,type(tu))\n",
    "li=list(tu)\n",
    "print(li,type(li))\n",
    "li.insert(4,5)\n",
    "print(li,type(li))\n",
    "new=tuple(li)\n",
    "print(new)\n"
   ]
  },
  {
   "cell_type": "code",
   "execution_count": 14,
   "id": "1f931f81-8485-4c30-a076-a1973f7ee338",
   "metadata": {},
   "outputs": [
    {
     "name": "stdout",
     "output_type": "stream",
     "text": [
      "(1, 2, 3, 4, 5, 6, 7)\n"
     ]
    }
   ],
   "source": [
    "#merge\n",
    "new1=(6,7)\n",
    "merge=new+new1\n",
    "print(merge)"
   ]
  },
  {
   "cell_type": "code",
   "execution_count": 16,
   "id": "d65bf836-e8af-441b-a70e-92321eafd70c",
   "metadata": {},
   "outputs": [
    {
     "name": "stdout",
     "output_type": "stream",
     "text": [
      "1\n",
      "2\n",
      "3\n",
      "4\n",
      "5\n",
      "6\n",
      "7\n"
     ]
    }
   ],
   "source": [
    "for i in merge:\n",
    "    print(i)"
   ]
  },
  {
   "cell_type": "code",
   "execution_count": 17,
   "id": "368aadf0-11b5-4655-a4f6-ea8fc8daf32b",
   "metadata": {},
   "outputs": [
    {
     "name": "stdout",
     "output_type": "stream",
     "text": [
      "(1, 2, 3, 4, 5, 6, 7, 1, 2, 3, 4, 5, 6, 7)\n"
     ]
    }
   ],
   "source": [
    "merge=merge*2\n",
    "print(merge)"
   ]
  },
  {
   "cell_type": "code",
   "execution_count": 18,
   "id": "38ae99e3-bdc0-4475-8c1a-c51af0a28723",
   "metadata": {},
   "outputs": [
    {
     "name": "stdout",
     "output_type": "stream",
     "text": [
      "2 3\n"
     ]
    }
   ],
   "source": [
    "print(merge.count(3),merge.index(4))"
   ]
  },
  {
   "cell_type": "markdown",
   "id": "901ef7e1-4809-4d79-8cbb-5e8aadb6bcb1",
   "metadata": {},
   "source": [
    "SET"
   ]
  },
  {
   "cell_type": "code",
   "execution_count": 19,
   "id": "5ef29f26-62a1-4fb4-a587-058f11bd8030",
   "metadata": {},
   "outputs": [
    {
     "name": "stdout",
     "output_type": "stream",
     "text": [
      "{1, 'anu', 2.5} <class 'set'> 3\n"
     ]
    }
   ],
   "source": [
    "#set--{} unordered,unchageable,does not allow duplicates\n",
    "\n",
    "s={1,2.5,\"anu\"}\n",
    "print(s,type(s),len(s))"
   ]
  },
  {
   "cell_type": "code",
   "execution_count": 20,
   "id": "406be45e-ad3e-478a-9eeb-11e922c3a2c9",
   "metadata": {},
   "outputs": [
    {
     "name": "stdout",
     "output_type": "stream",
     "text": [
      "1\n",
      "anu\n",
      "2.5\n"
     ]
    }
   ],
   "source": [
    "for i in s:\n",
    "    print(i) #i.e why unordered"
   ]
  },
  {
   "cell_type": "code",
   "execution_count": 21,
   "id": "f7526e37-9a97-4266-b84a-b2e2849aed83",
   "metadata": {},
   "outputs": [
    {
     "name": "stdout",
     "output_type": "stream",
     "text": [
      "{'a', 'f', 's'} <class 'set'> 3\n"
     ]
    }
   ],
   "source": [
    "s1={'a','s','f'}\n",
    "print(s1,type(s1),len(s1))"
   ]
  },
  {
   "cell_type": "code",
   "execution_count": 22,
   "id": "31112432-e352-422d-ae01-55590df094d4",
   "metadata": {},
   "outputs": [
    {
     "data": {
      "text/plain": [
       "{1, 2.3, 4}"
      ]
     },
     "execution_count": 22,
     "metadata": {},
     "output_type": "execute_result"
    }
   ],
   "source": [
    "#remove\n",
    "s={1,2.3,4,'a'}\n",
    "s.remove('a')\n",
    "s"
   ]
  },
  {
   "cell_type": "code",
   "execution_count": 23,
   "id": "0043fafc-90d0-4335-9935-d25b29b1ac5a",
   "metadata": {},
   "outputs": [
    {
     "data": {
      "text/plain": [
       "{1, 4}"
      ]
     },
     "execution_count": 23,
     "metadata": {},
     "output_type": "execute_result"
    }
   ],
   "source": [
    "s.discard(2.3)\n",
    "s"
   ]
  },
  {
   "cell_type": "code",
   "execution_count": 24,
   "id": "d596f1ac-4372-4d5d-aa4d-fead4006dc05",
   "metadata": {},
   "outputs": [
    {
     "data": {
      "text/plain": [
       "{4}"
      ]
     },
     "execution_count": 24,
     "metadata": {},
     "output_type": "execute_result"
    }
   ],
   "source": [
    "s.pop()\n",
    "s"
   ]
  },
  {
   "cell_type": "code",
   "execution_count": 27,
   "id": "d4d2f664-5563-4e94-8d7b-2a0014a139d9",
   "metadata": {},
   "outputs": [
    {
     "data": {
      "text/plain": [
       "{4, 11, 60}"
      ]
     },
     "execution_count": 27,
     "metadata": {},
     "output_type": "execute_result"
    }
   ],
   "source": [
    "s.add(60)\n",
    "s.add(11)\n",
    "s"
   ]
  },
  {
   "cell_type": "code",
   "execution_count": 28,
   "id": "ebb64706-fca3-482b-89a4-9dd510728c0a",
   "metadata": {},
   "outputs": [
    {
     "data": {
      "text/plain": [
       "{11, 60}"
      ]
     },
     "execution_count": 28,
     "metadata": {},
     "output_type": "execute_result"
    }
   ],
   "source": [
    "s.pop()\n",
    "s"
   ]
  },
  {
   "cell_type": "code",
   "execution_count": 29,
   "id": "fb461443-839c-4711-ba2e-00f0f2f4c0bd",
   "metadata": {},
   "outputs": [
    {
     "data": {
      "text/plain": [
       "{60}"
      ]
     },
     "execution_count": 29,
     "metadata": {},
     "output_type": "execute_result"
    }
   ],
   "source": [
    "s.pop()\n",
    "s"
   ]
  },
  {
   "cell_type": "code",
   "execution_count": 30,
   "id": "2bc6c5a4-10bb-48ef-8572-b68a09dbe9d2",
   "metadata": {},
   "outputs": [
    {
     "ename": "TypeError",
     "evalue": "unhashable type: 'set'",
     "output_type": "error",
     "traceback": [
      "\u001b[1;31m---------------------------------------------------------------------------\u001b[0m",
      "\u001b[1;31mTypeError\u001b[0m                                 Traceback (most recent call last)",
      "Cell \u001b[1;32mIn[30], line 1\u001b[0m\n\u001b[1;32m----> 1\u001b[0m s\u001b[38;5;241m.\u001b[39madd(s1)\n",
      "\u001b[1;31mTypeError\u001b[0m: unhashable type: 'set'"
     ]
    }
   ],
   "source": [
    "s.add(s1)"
   ]
  },
  {
   "cell_type": "code",
   "execution_count": null,
   "id": "0984fd24-78fe-4a27-b51c-e9542fd8f79f",
   "metadata": {},
   "outputs": [],
   "source": []
  }
 ],
 "metadata": {
  "kernelspec": {
   "display_name": "Python 3 (ipykernel)",
   "language": "python",
   "name": "python3"
  },
  "language_info": {
   "codemirror_mode": {
    "name": "ipython",
    "version": 3
   },
   "file_extension": ".py",
   "mimetype": "text/x-python",
   "name": "python",
   "nbconvert_exporter": "python",
   "pygments_lexer": "ipython3",
   "version": "3.11.9"
  }
 },
 "nbformat": 4,
 "nbformat_minor": 5
}
