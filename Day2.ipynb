{
 "cells": [
  {
   "cell_type": "code",
   "execution_count": 1,
   "id": "6ada12a8-b2bb-444d-9b58-fb6fb03dd851",
   "metadata": {},
   "outputs": [
    {
     "name": "stdout",
     "output_type": "stream",
     "text": [
      "Rahul <class 'str'>\n",
      "R R\n",
      "l l\n",
      "5\n",
      "3\n",
      "Rahul\n",
      "Rahul\n",
      "5\n",
      "huj\n",
      "huj\n",
      "Ahuja\n",
      "Ahuja\n"
     ]
    }
   ],
   "source": [
    "#Strings\n",
    "\n",
    "name=\"Rahul\"\n",
    "print(name,type(name))\n",
    "\n",
    "print(name[0],name[-5])\n",
    "print(name[4],name[-1])\n",
    "\n",
    "print(len(name))\n",
    "print(len('anu'))\n",
    "\n",
    "#print full anme\n",
    "print(name[0:5])\n",
    "print(name[-5:])\n",
    "\n",
    "#print part of the name\n",
    "name=\"Ahuja\"\n",
    "\n",
    "print(len(name))\n",
    "\n",
    "print(name[1:4])\n",
    "print(name[-4:-1])\n",
    "\n",
    "print(name[0:])\n",
    "print(name[-5:])"
   ]
  },
  {
   "cell_type": "code",
   "execution_count": 2,
   "id": "6278db90-7832-4bec-bf79-efab152e0bd0",
   "metadata": {},
   "outputs": [
    {
     "name": "stdout",
     "output_type": "stream",
     "text": [
      "ANU\n",
      "anu\n",
      "Anu\n"
     ]
    }
   ],
   "source": [
    "name=\"Anu\"\n",
    "\n",
    "\n",
    "print(name.upper())\n",
    "print(name.lower())\n",
    "print(name.title())"
   ]
  },
  {
   "cell_type": "code",
   "execution_count": 3,
   "id": "06c40054-ba37-47fb-b1a5-bbb001fe31d5",
   "metadata": {},
   "outputs": [
    {
     "name": "stdout",
     "output_type": "stream",
     "text": [
      "Rahul\n",
      "Rhl\n",
      "Ru\n",
      "Rl\n",
      "R\n",
      "luhaR\n",
      "lhR\n",
      "la\n",
      "lR\n",
      "l\n"
     ]
    }
   ],
   "source": [
    "#[::]\n",
    "\n",
    "name='Rahul'\n",
    "\n",
    "print(name[::1])\n",
    "print(name[::2])\n",
    "print(name[::3])\n",
    "print(name[::4])\n",
    "print(name[::5])\n",
    "\n",
    "\n",
    "#-ve\n",
    "\n",
    "print(name[::-1])\n",
    "print(name[::-2])\n",
    "print(name[::-3])\n",
    "print(name[::-4])\n",
    "print(name[::-5])"
   ]
  },
  {
   "cell_type": "code",
   "execution_count": 4,
   "id": "3202f00a-ae7c-423a-8706-fbd431073144",
   "metadata": {},
   "outputs": [
    {
     "name": "stdin",
     "output_type": "stream",
     "text": [
      "Enter your marks:  1\n"
     ]
    },
    {
     "name": "stdout",
     "output_type": "stream",
     "text": [
      "Fail\n"
     ]
    }
   ],
   "source": [
    "#Conditional statements\n",
    "\n",
    "\n",
    "marks=int(input(\"Enter your marks: \"))\n",
    "if(marks>=50):\n",
    "    print(\"pass\")\n",
    "else:\n",
    "    print(\"Fail\")\n"
   ]
  },
  {
   "cell_type": "code",
   "execution_count": 5,
   "id": "ed52df85-ec89-4067-a4f0-b8bc9791b1b6",
   "metadata": {},
   "outputs": [
    {
     "name": "stdin",
     "output_type": "stream",
     "text": [
      "Enter your marks:  63\n"
     ]
    },
    {
     "name": "stdout",
     "output_type": "stream",
     "text": [
      "GRADE B\n"
     ]
    }
   ],
   "source": [
    "#90-100 - A,60-89 - B,40-59 - C below 40 FAIL\n",
    "\n",
    "marks=int(input(\"Enter your marks: \"))\n",
    "\n",
    "if(marks>=90 and marks<=100):\n",
    "          print(\"GRADE A\")\n",
    "elif(marks>=60 and marks<=89):\n",
    "          print(\"GRADE B\")\n",
    "elif(marks>=40 and marks<=59):\n",
    "          print(\"GRADE C\")\n",
    "elif(marks<40):\n",
    "          print(\"Fail\")"
   ]
  },
  {
   "cell_type": "code",
   "execution_count": 6,
   "id": "070ef06b-c996-4265-acbf-d6ae1e9724e6",
   "metadata": {},
   "outputs": [
    {
     "name": "stdout",
     "output_type": "stream",
     "text": [
      "1\n",
      "2\n",
      "3\n",
      "4\n",
      "5\n",
      "6\n",
      "7\n",
      "8\n",
      "9\n",
      "10\n",
      "1\n",
      "2\n",
      "3\n",
      "4\n",
      "5\n",
      "6\n",
      "7\n",
      "8\n",
      "9\n",
      "10\n"
     ]
    }
   ],
   "source": [
    "#Loop-for,while\n",
    "#print 1 -10 using for and while loop\n",
    "\n",
    "\n",
    "for i in range(1,11,1):\n",
    "    print(i)\n",
    "\n",
    "i=1\n",
    "while(i<=10):\n",
    "    print(i)\n",
    "    i+=1"
   ]
  },
  {
   "cell_type": "code",
   "execution_count": 7,
   "id": "be4df10e-5f50-409d-bf2c-4482029120ce",
   "metadata": {},
   "outputs": [
    {
     "name": "stdout",
     "output_type": "stream",
     "text": [
      "A\n",
      "B\n",
      "C\n",
      "D\n",
      "E\n",
      "F\n",
      "G\n",
      "H\n",
      "I\n",
      "J\n",
      "K\n",
      "L\n",
      "M\n",
      "N\n",
      "O\n",
      "P\n",
      "Q\n",
      "R\n",
      "S\n",
      "T\n",
      "U\n",
      "V\n",
      "W\n",
      "X\n",
      "Y\n",
      "Z\n"
     ]
    }
   ],
   "source": [
    "#ASCII VALUE PRINT\n",
    "\n",
    "\n",
    "for i in range(65,91,1):\n",
    "    print(chr(i))\n",
    "    i+=1"
   ]
  },
  {
   "cell_type": "code",
   "execution_count": 8,
   "id": "a2fe7b01-6ee7-4eca-abc1-1019abd0bc6c",
   "metadata": {},
   "outputs": [
    {
     "name": "stdout",
     "output_type": "stream",
     "text": [
      "a\n",
      "b\n",
      "c\n",
      "d\n",
      "e\n",
      "f\n",
      "g\n",
      "h\n",
      "i\n",
      "j\n",
      "k\n",
      "l\n",
      "m\n",
      "n\n",
      "o\n",
      "p\n",
      "q\n",
      "r\n",
      "s\n",
      "t\n",
      "u\n",
      "v\n",
      "w\n",
      "x\n",
      "y\n",
      "z\n"
     ]
    }
   ],
   "source": [
    "for i in range (97,123,1):\n",
    "    print(chr(i))\n",
    "    i+=1"
   ]
  },
  {
   "cell_type": "code",
   "execution_count": 9,
   "id": "a875321f-469a-4766-8c51-985ce92ca11e",
   "metadata": {},
   "outputs": [
    {
     "name": "stdout",
     "output_type": "stream",
     "text": [
      "A a\n",
      "B b\n",
      "C c\n",
      "D d\n",
      "E e\n",
      "F f\n",
      "G g\n",
      "H h\n",
      "I i\n",
      "J j\n",
      "K k\n",
      "L l\n",
      "M m\n",
      "N n\n",
      "O o\n",
      "P p\n",
      "Q q\n",
      "R r\n",
      "S s\n",
      "T t\n",
      "U u\n",
      "V v\n",
      "W w\n",
      "X x\n",
      "Y y\n",
      "Z z\n"
     ]
    }
   ],
   "source": [
    "i=65\n",
    "j=97\n",
    "while(i<91 and j<123):\n",
    "    print(chr(i),chr(j))\n",
    "    i+=1\n",
    "    j+=1\n"
   ]
  },
  {
   "cell_type": "code",
   "execution_count": 10,
   "id": "8d27dd9e-8ee0-4ec6-9730-1ded7881d233",
   "metadata": {},
   "outputs": [
    {
     "name": "stdout",
     "output_type": "stream",
     "text": [
      "11\n",
      "13\n",
      "15\n",
      "17\n",
      "19\n"
     ]
    }
   ],
   "source": [
    "#Print odd numbers in between 10-20 using for and while loop\n",
    "\n",
    "\n",
    "for i in range(11,21,2):\n",
    "    print(i)\n",
    "    i+=1"
   ]
  },
  {
   "cell_type": "code",
   "execution_count": 11,
   "id": "b967e1a9-3e09-4a43-8319-c75bae50ac82",
   "metadata": {},
   "outputs": [
    {
     "name": "stdout",
     "output_type": "stream",
     "text": [
      "11\n",
      "13\n",
      "15\n",
      "17\n",
      "19\n"
     ]
    }
   ],
   "source": [
    "i=11\n",
    "while(i<=20):\n",
    "    if(i%2!=0):\n",
    "        print(i)\n",
    "    i+=1\n",
    "    "
   ]
  },
  {
   "cell_type": "code",
   "execution_count": 12,
   "id": "0e1bb54b-d7e9-4ff8-9ce6-6ab193fbeac9",
   "metadata": {},
   "outputs": [
    {
     "name": "stdout",
     "output_type": "stream",
     "text": [
      "1\n",
      "2\n",
      "3\n",
      "4\n",
      "6\n",
      "12\n"
     ]
    }
   ],
   "source": [
    "#Find factors of a number : 12-1,2,3,4,6,12 using for and while loop\n",
    "\n",
    "number=12\n",
    "for i in range(1,13):\n",
    "    if(number%i==0):\n",
    "        print(i)\n",
    "    i+=1"
   ]
  },
  {
   "cell_type": "code",
   "execution_count": 13,
   "id": "6e94a631-1cfe-4c17-bd83-a1fc2f8af2ba",
   "metadata": {},
   "outputs": [
    {
     "name": "stdout",
     "output_type": "stream",
     "text": [
      "1\n",
      "2\n",
      "3\n",
      "4\n",
      "6\n",
      "12\n"
     ]
    }
   ],
   "source": [
    "i=1\n",
    "while(i<=12):\n",
    "    if(12%i==0):\n",
    "        print(i)\n",
    "    i+=1"
   ]
  },
  {
   "cell_type": "code",
   "execution_count": 14,
   "id": "0a3edc99-99eb-4ac1-9da1-b0999ecb2e67",
   "metadata": {},
   "outputs": [
    {
     "name": "stdin",
     "output_type": "stream",
     "text": [
      "Enter the number:  65\n"
     ]
    },
    {
     "name": "stdout",
     "output_type": "stream",
     "text": [
      "not Prime\n"
     ]
    }
   ],
   "source": [
    "#Check a number is prime or not using for and while loop\n",
    "\n",
    "isPrime=True\n",
    "number=int(input(\"Enter the number: \"))\n",
    "for i in range(2,int((number+1)/2)):\n",
    "        if(number%i==0):\n",
    "            isPrime=False\n",
    "            break\n",
    "if(isPrime and number!=1 and number!=0): \n",
    "    print(\"Prime\")\n",
    "elif(isPrime==False or number==1 or number==0):\n",
    "    print(\"not Prime\")"
   ]
  },
  {
   "cell_type": "code",
   "execution_count": 15,
   "id": "e46f956a-bb52-44d2-b16b-c04c1d67fd18",
   "metadata": {},
   "outputs": [
    {
     "name": "stdin",
     "output_type": "stream",
     "text": [
      "Enter the number:  36\n"
     ]
    },
    {
     "name": "stdout",
     "output_type": "stream",
     "text": [
      "not prime\n"
     ]
    }
   ],
   "source": [
    "i=2\n",
    "isPrime=True\n",
    "number=int(input(\"Enter the number: \"))\n",
    "while(i<=int((number+1)/2)):\n",
    "    if(number%i==0):\n",
    "        isPrime=False\n",
    "        break\n",
    "    i+=1\n",
    "if(isPrime==True and number!=1 and number!=0):\n",
    "    print(\"prime\")\n",
    "elif(isPrime==False or number==1 or number==0):\n",
    "    print(\"not prime\")\n"
   ]
  },
  {
   "cell_type": "code",
   "execution_count": null,
   "id": "82f1312b-8339-48c0-bc83-2239a6e5a48c",
   "metadata": {},
   "outputs": [],
   "source": []
  }
 ],
 "metadata": {
  "kernelspec": {
   "display_name": "Python 3 (ipykernel)",
   "language": "python",
   "name": "python3"
  },
  "language_info": {
   "codemirror_mode": {
    "name": "ipython",
    "version": 3
   },
   "file_extension": ".py",
   "mimetype": "text/x-python",
   "name": "python",
   "nbconvert_exporter": "python",
   "pygments_lexer": "ipython3",
   "version": "3.11.9"
  }
 },
 "nbformat": 4,
 "nbformat_minor": 5
}
