{
 "cells": [
  {
   "cell_type": "code",
   "execution_count": 1,
   "id": "ca0d3b4b-d922-47a4-a737-1954beed9aeb",
   "metadata": {},
   "outputs": [
    {
     "name": "stdout",
     "output_type": "stream",
     "text": [
      "Hello Everyone\n"
     ]
    }
   ],
   "source": [
    "print(\"Hello Everyone\")\n"
   ]
  },
  {
   "cell_type": "code",
   "execution_count": 2,
   "id": "64a3f32d-1456-4a2e-9e7c-66f50ebd3d51",
   "metadata": {},
   "outputs": [
    {
     "name": "stdout",
     "output_type": "stream",
     "text": [
      "18\n"
     ]
    }
   ],
   "source": [
    "print(5+13)"
   ]
  },
  {
   "cell_type": "code",
   "execution_count": 3,
   "id": "e394b91b-7a04-4a9c-85e1-86b716db296c",
   "metadata": {},
   "outputs": [
    {
     "name": "stdout",
     "output_type": "stream",
     "text": [
      "18\n"
     ]
    }
   ],
   "source": [
    "answer=(5+13)\n",
    "print(answer)"
   ]
  },
  {
   "cell_type": "code",
   "execution_count": 4,
   "id": "62ae4b28-9ca9-48e3-b465-885c7486a7ad",
   "metadata": {},
   "outputs": [
    {
     "name": "stdout",
     "output_type": "stream",
     "text": [
      "So, the answer is  18\n"
     ]
    }
   ],
   "source": [
    "print(\"So, the answer is \",answer)"
   ]
  },
  {
   "cell_type": "code",
   "execution_count": 5,
   "id": "b0602a24-aa28-4129-83c2-d6a5b1b2b7f5",
   "metadata": {},
   "outputs": [
    {
     "name": "stdin",
     "output_type": "stream",
     "text": [
      "What is your name..?  Anus\n"
     ]
    },
    {
     "name": "stdout",
     "output_type": "stream",
     "text": [
      "Hello  Anus\n"
     ]
    }
   ],
   "source": [
    "yourName=input(\"What is your name..? \")\n",
    "print(\"Hello \",yourName)"
   ]
  },
  {
   "cell_type": "code",
   "execution_count": 6,
   "id": "fffef666-4848-4cea-8b1a-b9cd9e921b94",
   "metadata": {},
   "outputs": [
    {
     "name": "stdin",
     "output_type": "stream",
     "text": [
      "Enter the first number  7\n",
      "Enter the second number  6\n"
     ]
    },
    {
     "name": "stdout",
     "output_type": "stream",
     "text": [
      "76\n"
     ]
    }
   ],
   "source": [
    "#number concatenation\n",
    "\n",
    "number1=input(\"Enter the first number \")\n",
    "number2=input(\"Enter the second number \")\n",
    "print(number1+number2)"
   ]
  },
  {
   "cell_type": "code",
   "execution_count": 7,
   "id": "4d0b6f2e-b0b9-4e8f-852d-917be8c26e38",
   "metadata": {},
   "outputs": [
    {
     "name": "stdin",
     "output_type": "stream",
     "text": [
      "Enter the first number  3\n",
      "Enter the second number  9\n"
     ]
    },
    {
     "name": "stdout",
     "output_type": "stream",
     "text": [
      "12\n"
     ]
    }
   ],
   "source": [
    "#number addition\n",
    "\n",
    "number1=int(input(\"Enter the first number \"))\n",
    "number2=int(input(\"Enter the second number \"))\n",
    "print(number1+number2)"
   ]
  },
  {
   "cell_type": "code",
   "execution_count": 8,
   "id": "6084e375-aed7-467a-b2c8-cddc10a4edcc",
   "metadata": {},
   "outputs": [
    {
     "name": "stdout",
     "output_type": "stream",
     "text": [
      "<class 'int'>\n",
      "<class 'str'>\n",
      "<class 'str'>\n",
      "<class 'float'>\n",
      "<class 'bool'>\n",
      "<class 'complex'>\n"
     ]
    }
   ],
   "source": [
    "#Datatypes\n",
    "\n",
    "\n",
    "a=10\n",
    "print(type(a))\n",
    "\n",
    "var = 'd'\n",
    "print(type(var))\n",
    "\n",
    "va=\"d\"\n",
    "print(type(va))\n",
    "\n",
    "n1=5.65\n",
    "print(type(n1))\n",
    "\n",
    "n2=False\n",
    "print(type(n2))\n",
    "\n",
    "n3=8j\n",
    "print(type(n3))"
   ]
  },
  {
   "cell_type": "code",
   "execution_count": 9,
   "id": "967c3398-dcbc-44a3-9cbb-33907345f729",
   "metadata": {},
   "outputs": [
    {
     "name": "stdin",
     "output_type": "stream",
     "text": [
      "Enter the first number:  4\n",
      "Enter the second number:  6\n"
     ]
    },
    {
     "name": "stdout",
     "output_type": "stream",
     "text": [
      "10\n",
      "-2\n",
      "24\n",
      "0.6666666666666666\n",
      "0\n",
      "4096\n",
      "4\n"
     ]
    }
   ],
   "source": [
    "#### Arithematic opertors\n",
    "\n",
    "\n",
    "n1=int(input(\"Enter the first number: \"))\n",
    "n2=int(input(\"Enter the second number: \"))\n",
    "print(n1+n2)\n",
    "print(n1-n2)\n",
    "print(n1*n2)\n",
    "print(n1/n2)\n",
    "print(n1//n2)\n",
    "print(n1**n2)\n",
    "print(n1%n2)"
   ]
  },
  {
   "cell_type": "code",
   "execution_count": 10,
   "id": "b01a3545-691a-4a03-8182-be8d4f722962",
   "metadata": {},
   "outputs": [
    {
     "name": "stdout",
     "output_type": "stream",
     "text": [
      "False\n",
      "True\n",
      "False\n",
      "True\n",
      "False\n",
      "True\n"
     ]
    }
   ],
   "source": [
    "#Relational operators\n",
    "\n",
    "a=5\n",
    "b=6\n",
    "\n",
    "print(a>b)\n",
    "print(a<b)\n",
    "print(a>=b)\n",
    "print(a<=b)\n",
    "print(a==b)\n",
    "print(a!=b)"
   ]
  },
  {
   "cell_type": "code",
   "execution_count": 11,
   "id": "1fb21254-363d-43d2-a921-357d8121f227",
   "metadata": {},
   "outputs": [
    {
     "name": "stdout",
     "output_type": "stream",
     "text": [
      "10\n"
     ]
    }
   ],
   "source": [
    "#Assignment opertors *=,/=,....\n",
    "\n",
    "\n",
    "a=5\n",
    "\n",
    "a+=5\n",
    "print(a)"
   ]
  },
  {
   "cell_type": "code",
   "execution_count": 12,
   "id": "da7f03bd-d6ae-4fda-912a-00d79dcde227",
   "metadata": {},
   "outputs": [
    {
     "name": "stdout",
     "output_type": "stream",
     "text": [
      "False\n",
      "True\n",
      "False\n",
      "True\n"
     ]
    }
   ],
   "source": [
    "#Logical opertors\n",
    "\n",
    "\n",
    "a=5\n",
    "b=6\n",
    "\n",
    "print(a>5 and b<5)\n",
    "print(a>=5 or b<5)\n",
    "print(not(a==5))\n",
    "print(not(a!=5))\n",
    "\n"
   ]
  },
  {
   "cell_type": "code",
   "execution_count": null,
   "id": "5fa0e3a1-9e3f-4165-b52a-36cfc6a2ff58",
   "metadata": {},
   "outputs": [],
   "source": []
  }
 ],
 "metadata": {
  "kernelspec": {
   "display_name": "Python 3 (ipykernel)",
   "language": "python",
   "name": "python3"
  },
  "language_info": {
   "codemirror_mode": {
    "name": "ipython",
    "version": 3
   },
   "file_extension": ".py",
   "mimetype": "text/x-python",
   "name": "python",
   "nbconvert_exporter": "python",
   "pygments_lexer": "ipython3",
   "version": "3.11.9"
  }
 },
 "nbformat": 4,
 "nbformat_minor": 5
}
